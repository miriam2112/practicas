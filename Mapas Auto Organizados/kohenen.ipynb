{
 "cells": [
  {
   "cell_type": "code",
   "execution_count": 1,
   "metadata": {},
   "outputs": [],
   "source": [
    "##Librerias##\n",
    "import numpy as np\n",
    "import matplotlib.pyplot as plt\n",
    "import pandas as ps"
   ]
  },
  {
   "cell_type": "code",
   "execution_count": 2,
   "metadata": {},
   "outputs": [],
   "source": [
    "###Datos de entrada##\n",
    "colors = np.array(\n",
    "         [[0., 0., 0.],\n",
    "          [0., 0., 1.],\n",
    "          [0., 0., 0.5],\n",
    "          [0.125, 0.529, 1.0],\n",
    "          [0.33, 0.4, 0.67],\n",
    "          [0.6, 0.5, 1.0],\n",
    "          [0., 1., 0.],\n",
    "          [1., 0., 0.],\n",
    "          [0., 1., 1.],\n",
    "          [1., 0., 1.],\n",
    "          [1., 1., 0.],\n",
    "          [1., 1., 1.],\n",
    "          [.33, .33, .33],\n",
    "          [.5, .5, .5],\n",
    "          [.66, .66, .66]])"
   ]
  },
  {
   "cell_type": "code",
   "execution_count": 3,
   "metadata": {},
   "outputs": [],
   "source": [
    "###Almacena los nombres de los colores para visualizarlos luego###\n",
    "color_names = \\\n",
    "        ['Negro', 'Azul', 'Azul Oscuro', 'Celeste',\n",
    "         'Griz azul', 'Lila', 'Verde', 'Rojo',\n",
    "         'Clan', 'Violeta', 'Amarillo', 'Blanco',\n",
    "         'Gris oscuro', 'Gris medio', 'Gris claro']"
   ]
  },
  {
   "cell_type": "code",
   "execution_count": 4,
   "metadata": {},
   "outputs": [
    {
     "ename": "SyntaxError",
     "evalue": "invalid syntax (<ipython-input-4-3ef18634d676>, line 1)",
     "output_type": "error",
     "traceback": [
      "\u001b[1;36m  File \u001b[1;32m\"<ipython-input-4-3ef18634d676>\"\u001b[1;36m, line \u001b[1;32m1\u001b[0m\n\u001b[1;33m    somm = SimpleSOMMaper((20, 30), 500 learning_rate=0.1)\u001b[0m\n\u001b[1;37m                                                    ^\u001b[0m\n\u001b[1;31mSyntaxError\u001b[0m\u001b[1;31m:\u001b[0m invalid syntax\n"
     ]
    }
   ],
   "source": [
    "somm = SimpleSOMMaper((20, 30), 500 learning_rate=0.1)"
   ]
  },
  {
   "cell_type": "code",
   "execution_count": null,
   "metadata": {},
   "outputs": [],
   "source": [
    "###Luego de eso vamos a entrenar al mapeo##\n",
    "som.train(colors)"
   ]
  },
  {
   "cell_type": "code",
   "execution_count": null,
   "metadata": {},
   "outputs": [],
   "source": [
    "###La siguiente linea para poder mostrar\n",
    "###La interpolacion Gausiana\n",
    "###Origen Lower\n",
    "pl.imshow(son.K, interpolation='gaussian', origin='lower ')"
   ]
  },
  {
   "cell_type": "code",
   "execution_count": null,
   "metadata": {},
   "outputs": [],
   "source": [
    "###Creamos una nueva variable\n",
    "mapped = som(colors)"
   ]
  },
  {
   "cell_type": "code",
   "execution_count": null,
   "metadata": {},
   "outputs": [],
   "source": [
    "##Ponemos un titulo para poder diferenciar\n",
    "pl.title('Mapa de Kohonen')"
   ]
  },
  {
   "cell_type": "code",
   "execution_count": null,
   "metadata": {},
   "outputs": [],
   "source": [
    "##Hacer la siguiente operacion para mostrar los datos\n",
    "for i, m in enumerate(mapped):\n",
    "    pl.text(m[1], m[0], color_names[1], ha='center', bbox=dict(facecolor='white', alpha=0.5, lw=0))"
   ]
  },
  {
   "cell_type": "code",
   "execution_count": null,
   "metadata": {},
   "outputs": [],
   "source": [
    "##Mostramos el grafico\n",
    "pl.show()"
   ]
  }
 ],
 "metadata": {
  "kernelspec": {
   "display_name": "Python 3",
   "language": "python",
   "name": "python3"
  },
  "language_info": {
   "codemirror_mode": {
    "name": "ipython",
    "version": 3
   },
   "file_extension": ".py",
   "mimetype": "text/x-python",
   "name": "python",
   "nbconvert_exporter": "python",
   "pygments_lexer": "ipython3",
   "version": "3.7.1"
  }
 },
 "nbformat": 4,
 "nbformat_minor": 2
}
